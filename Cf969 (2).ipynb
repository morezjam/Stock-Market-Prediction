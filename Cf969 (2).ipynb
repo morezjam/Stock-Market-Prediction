{
 "cells": [
  {
   "cell_type": "code",
   "execution_count": 1,
   "id": "6ff7e0f9",
   "metadata": {},
   "outputs": [],
   "source": [
    "# The problem that is going to be addressed is the prediction of the adjust close value of stock price of Microsoft Corporation based on their historical data using a deep learning algorithm (LSTM) \n",
    "# The dataset that is going to be used, is accessible via https://www.kaggle.com/datasets/varpit94/microsoft-stock-data?resource=download\n",
    "# The idea of problem and backbone of the code has been inspired from https://www.analyticsvidhya.com/blog/2021/10/machine-learning-for-stock-market-prediction-with-step-by-step-implementation/\n",
    "# I have also added XGBoost model to compare the result of this algorithm with LSTM to see for this problem which one could show better performance"
   ]
  },
  {
   "cell_type": "code",
   "execution_count": 2,
   "id": "c9a955bf",
   "metadata": {},
   "outputs": [
    {
     "name": "stderr",
     "output_type": "stream",
     "text": [
      "C:\\Users\\mrjmf\\anaconda3\\lib\\site-packages\\xgboost\\compat.py:36: FutureWarning: pandas.Int64Index is deprecated and will be removed from pandas in a future version. Use pandas.Index with the appropriate dtype instead.\n",
      "  from pandas import MultiIndex, Int64Index\n"
     ]
    }
   ],
   "source": [
    "#libraries\n",
    "import pandas as pd\n",
    "import numpy as np\n",
    "import datetime\n",
    "%matplotlib inline\n",
    "import matplotlib. pyplot as plt\n",
    "import matplotlib\n",
    "from sklearn.preprocessing import MinMaxScaler\n",
    "from keras.layers import LSTM, Dense, Dropout\n",
    "from sklearn.model_selection import TimeSeriesSplit\n",
    "from sklearn.metrics import mean_squared_error, r2_score\n",
    "import math\n",
    "import matplotlib.dates as mandates\n",
    "from sklearn.preprocessing import MinMaxScaler\n",
    "from sklearn import linear_model\n",
    "from keras.models import Sequential\n",
    "from keras.layers import Dense\n",
    "import keras.backend as K\n",
    "from keras.callbacks import EarlyStopping\n",
    "from tensorflow.keras.optimizers import Adam \n",
    "from keras.models import load_model\n",
    "from keras.layers import LSTM\n",
    "from tensorflow.keras.utils import plot_model\n",
    "from xgboost import XGBRegressor"
   ]
  },
  {
   "cell_type": "code",
   "execution_count": 3,
   "id": "3f631767",
   "metadata": {},
   "outputs": [
    {
     "data": {
      "text/html": [
       "<div>\n",
       "<style scoped>\n",
       "    .dataframe tbody tr th:only-of-type {\n",
       "        vertical-align: middle;\n",
       "    }\n",
       "\n",
       "    .dataframe tbody tr th {\n",
       "        vertical-align: top;\n",
       "    }\n",
       "\n",
       "    .dataframe thead th {\n",
       "        text-align: right;\n",
       "    }\n",
       "</style>\n",
       "<table border=\"1\" class=\"dataframe\">\n",
       "  <thead>\n",
       "    <tr style=\"text-align: right;\">\n",
       "      <th></th>\n",
       "      <th>Open</th>\n",
       "      <th>High</th>\n",
       "      <th>Low</th>\n",
       "      <th>Close</th>\n",
       "      <th>Adj Close</th>\n",
       "      <th>Volume</th>\n",
       "    </tr>\n",
       "    <tr>\n",
       "      <th>Date</th>\n",
       "      <th></th>\n",
       "      <th></th>\n",
       "      <th></th>\n",
       "      <th></th>\n",
       "      <th></th>\n",
       "      <th></th>\n",
       "    </tr>\n",
       "  </thead>\n",
       "  <tbody>\n",
       "    <tr>\n",
       "      <th>2022-03-18</th>\n",
       "      <td>295.369995</td>\n",
       "      <td>301.000000</td>\n",
       "      <td>292.730011</td>\n",
       "      <td>300.429993</td>\n",
       "      <td>300.429993</td>\n",
       "      <td>43317000</td>\n",
       "    </tr>\n",
       "    <tr>\n",
       "      <th>2022-03-21</th>\n",
       "      <td>298.890015</td>\n",
       "      <td>300.140015</td>\n",
       "      <td>294.899994</td>\n",
       "      <td>299.160004</td>\n",
       "      <td>299.160004</td>\n",
       "      <td>28351200</td>\n",
       "    </tr>\n",
       "    <tr>\n",
       "      <th>2022-03-22</th>\n",
       "      <td>299.799988</td>\n",
       "      <td>305.000000</td>\n",
       "      <td>298.769989</td>\n",
       "      <td>304.059998</td>\n",
       "      <td>304.059998</td>\n",
       "      <td>27599700</td>\n",
       "    </tr>\n",
       "    <tr>\n",
       "      <th>2022-03-23</th>\n",
       "      <td>300.510010</td>\n",
       "      <td>303.230011</td>\n",
       "      <td>297.720001</td>\n",
       "      <td>299.489990</td>\n",
       "      <td>299.489990</td>\n",
       "      <td>25715400</td>\n",
       "    </tr>\n",
       "    <tr>\n",
       "      <th>2022-03-24</th>\n",
       "      <td>299.140015</td>\n",
       "      <td>304.200012</td>\n",
       "      <td>298.320007</td>\n",
       "      <td>304.100006</td>\n",
       "      <td>304.100006</td>\n",
       "      <td>24446900</td>\n",
       "    </tr>\n",
       "  </tbody>\n",
       "</table>\n",
       "</div>"
      ],
      "text/plain": [
       "                  Open        High         Low       Close   Adj Close  \\\n",
       "Date                                                                     \n",
       "2022-03-18  295.369995  301.000000  292.730011  300.429993  300.429993   \n",
       "2022-03-21  298.890015  300.140015  294.899994  299.160004  299.160004   \n",
       "2022-03-22  299.799988  305.000000  298.769989  304.059998  304.059998   \n",
       "2022-03-23  300.510010  303.230011  297.720001  299.489990  299.489990   \n",
       "2022-03-24  299.140015  304.200012  298.320007  304.100006  304.100006   \n",
       "\n",
       "              Volume  \n",
       "Date                  \n",
       "2022-03-18  43317000  \n",
       "2022-03-21  28351200  \n",
       "2022-03-22  27599700  \n",
       "2022-03-23  25715400  \n",
       "2022-03-24  24446900  "
      ]
     },
     "execution_count": 3,
     "metadata": {},
     "output_type": "execute_result"
    }
   ],
   "source": [
    "#parsing the dataset and store it into a pandas dataframe\n",
    "df=pd.read_csv(\"MSFT.csv\",na_values=['null'],index_col='Date',parse_dates=True,infer_datetime_format=True)\n",
    "df.tail()"
   ]
  },
  {
   "cell_type": "code",
   "execution_count": 4,
   "id": "64082f02",
   "metadata": {},
   "outputs": [
    {
     "name": "stdout",
     "output_type": "stream",
     "text": [
      "Dataframe dimension (rows, columns):  (9083, 6)\n",
      "null values existence:  False\n"
     ]
    }
   ],
   "source": [
    "#displaying the dimension of the dataset, and checking for null values\n",
    "print(\"Dataframe dimension (rows, columns): \", df.shape)\n",
    "print(\"null values existence: \", df.isnull().values.any())"
   ]
  },
  {
   "cell_type": "code",
   "execution_count": 5,
   "id": "3a86e851",
   "metadata": {},
   "outputs": [
    {
     "data": {
      "text/html": [
       "<div>\n",
       "<style scoped>\n",
       "    .dataframe tbody tr th:only-of-type {\n",
       "        vertical-align: middle;\n",
       "    }\n",
       "\n",
       "    .dataframe tbody tr th {\n",
       "        vertical-align: top;\n",
       "    }\n",
       "\n",
       "    .dataframe thead th {\n",
       "        text-align: right;\n",
       "    }\n",
       "</style>\n",
       "<table border=\"1\" class=\"dataframe\">\n",
       "  <thead>\n",
       "    <tr style=\"text-align: right;\">\n",
       "      <th></th>\n",
       "      <th>Open</th>\n",
       "      <th>High</th>\n",
       "      <th>Low</th>\n",
       "      <th>Close</th>\n",
       "      <th>Adj Close</th>\n",
       "      <th>Volume</th>\n",
       "    </tr>\n",
       "  </thead>\n",
       "  <tbody>\n",
       "    <tr>\n",
       "      <th>count</th>\n",
       "      <td>9083.000000</td>\n",
       "      <td>9083.000000</td>\n",
       "      <td>9083.000000</td>\n",
       "      <td>9083.000000</td>\n",
       "      <td>9083.000000</td>\n",
       "      <td>9.083000e+03</td>\n",
       "    </tr>\n",
       "    <tr>\n",
       "      <th>mean</th>\n",
       "      <td>41.324936</td>\n",
       "      <td>41.760887</td>\n",
       "      <td>40.878488</td>\n",
       "      <td>41.335628</td>\n",
       "      <td>36.256120</td>\n",
       "      <td>5.875055e+07</td>\n",
       "    </tr>\n",
       "    <tr>\n",
       "      <th>std</th>\n",
       "      <td>59.696905</td>\n",
       "      <td>60.272218</td>\n",
       "      <td>59.081728</td>\n",
       "      <td>59.714567</td>\n",
       "      <td>59.981436</td>\n",
       "      <td>3.845200e+07</td>\n",
       "    </tr>\n",
       "    <tr>\n",
       "      <th>min</th>\n",
       "      <td>0.088542</td>\n",
       "      <td>0.092014</td>\n",
       "      <td>0.088542</td>\n",
       "      <td>0.090278</td>\n",
       "      <td>0.057046</td>\n",
       "      <td>2.304000e+06</td>\n",
       "    </tr>\n",
       "    <tr>\n",
       "      <th>25%</th>\n",
       "      <td>4.050781</td>\n",
       "      <td>4.102051</td>\n",
       "      <td>4.027344</td>\n",
       "      <td>4.075195</td>\n",
       "      <td>2.575089</td>\n",
       "      <td>3.461230e+07</td>\n",
       "    </tr>\n",
       "    <tr>\n",
       "      <th>50%</th>\n",
       "      <td>26.820000</td>\n",
       "      <td>27.100000</td>\n",
       "      <td>26.520000</td>\n",
       "      <td>26.840000</td>\n",
       "      <td>18.948530</td>\n",
       "      <td>5.203200e+07</td>\n",
       "    </tr>\n",
       "    <tr>\n",
       "      <th>75%</th>\n",
       "      <td>40.034999</td>\n",
       "      <td>40.443751</td>\n",
       "      <td>39.500000</td>\n",
       "      <td>39.937500</td>\n",
       "      <td>29.244812</td>\n",
       "      <td>7.265400e+07</td>\n",
       "    </tr>\n",
       "    <tr>\n",
       "      <th>max</th>\n",
       "      <td>344.619995</td>\n",
       "      <td>349.670013</td>\n",
       "      <td>342.200012</td>\n",
       "      <td>343.109985</td>\n",
       "      <td>342.402008</td>\n",
       "      <td>1.031789e+09</td>\n",
       "    </tr>\n",
       "  </tbody>\n",
       "</table>\n",
       "</div>"
      ],
      "text/plain": [
       "              Open         High          Low        Close    Adj Close  \\\n",
       "count  9083.000000  9083.000000  9083.000000  9083.000000  9083.000000   \n",
       "mean     41.324936    41.760887    40.878488    41.335628    36.256120   \n",
       "std      59.696905    60.272218    59.081728    59.714567    59.981436   \n",
       "min       0.088542     0.092014     0.088542     0.090278     0.057046   \n",
       "25%       4.050781     4.102051     4.027344     4.075195     2.575089   \n",
       "50%      26.820000    27.100000    26.520000    26.840000    18.948530   \n",
       "75%      40.034999    40.443751    39.500000    39.937500    29.244812   \n",
       "max     344.619995   349.670013   342.200012   343.109985   342.402008   \n",
       "\n",
       "             Volume  \n",
       "count  9.083000e+03  \n",
       "mean   5.875055e+07  \n",
       "std    3.845200e+07  \n",
       "min    2.304000e+06  \n",
       "25%    3.461230e+07  \n",
       "50%    5.203200e+07  \n",
       "75%    7.265400e+07  \n",
       "max    1.031789e+09  "
      ]
     },
     "execution_count": 5,
     "metadata": {},
     "output_type": "execute_result"
    }
   ],
   "source": [
    "# displaying basic statistical measures of the attributes\n",
    "df.describe()"
   ]
  },
  {
   "cell_type": "code",
   "execution_count": 6,
   "id": "5fc188ef",
   "metadata": {},
   "outputs": [
    {
     "data": {
      "image/png": "[encoded data removed]",
      "text/plain": [
       "<Figure size 720x720 with 1 Axes>"
      ]
     },
     "metadata": {
      "needs_background": "light"
     },
     "output_type": "display_data"
    }
   ],
   "source": [
    "#Plotting true adj close values from march 1986 to december 2022 (data is just available till march of 2022 but to have a more clear plot, december 2022 has been chosen)\n",
    "df['Adj Close'].plot(figsize = (10,10), kind = 'line', color = 'blue', grid = True, xlim = ['1986-03-13', '2022-12-22'])\n",
    "plt.show()"
   ]
  },
  {
   "cell_type": "code",
   "execution_count": 7,
   "id": "c83cbf6c",
   "metadata": {},
   "outputs": [],
   "source": [
    "#target or response variable\n",
    "target = pd.DataFrame(df['Adj Close'])\n",
    "#predictor variables\n",
    "columns = ['Open', 'High', 'Low', 'Volume']"
   ]
  },
  {
   "cell_type": "code",
   "execution_count": 8,
   "id": "69945248",
   "metadata": {},
   "outputs": [
    {
     "data": {
      "text/html": [
       "<div>\n",
       "<style scoped>\n",
       "    .dataframe tbody tr th:only-of-type {\n",
       "        vertical-align: middle;\n",
       "    }\n",
       "\n",
       "    .dataframe tbody tr th {\n",
       "        vertical-align: top;\n",
       "    }\n",
       "\n",
       "    .dataframe thead th {\n",
       "        text-align: right;\n",
       "    }\n",
       "</style>\n",
       "<table border=\"1\" class=\"dataframe\">\n",
       "  <thead>\n",
       "    <tr style=\"text-align: right;\">\n",
       "      <th></th>\n",
       "      <th>Open</th>\n",
       "      <th>High</th>\n",
       "      <th>Low</th>\n",
       "      <th>Volume</th>\n",
       "    </tr>\n",
       "    <tr>\n",
       "      <th>Date</th>\n",
       "      <th></th>\n",
       "      <th></th>\n",
       "      <th></th>\n",
       "      <th></th>\n",
       "    </tr>\n",
       "  </thead>\n",
       "  <tbody>\n",
       "    <tr>\n",
       "      <th>1986-03-13</th>\n",
       "      <td>0.000000</td>\n",
       "      <td>0.000027</td>\n",
       "      <td>0.000000</td>\n",
       "      <td>1.000000</td>\n",
       "    </tr>\n",
       "    <tr>\n",
       "      <th>1986-03-14</th>\n",
       "      <td>0.000025</td>\n",
       "      <td>0.000030</td>\n",
       "      <td>0.000025</td>\n",
       "      <td>0.297096</td>\n",
       "    </tr>\n",
       "    <tr>\n",
       "      <th>1986-03-17</th>\n",
       "      <td>0.000035</td>\n",
       "      <td>0.000032</td>\n",
       "      <td>0.000036</td>\n",
       "      <td>0.127119</td>\n",
       "    </tr>\n",
       "    <tr>\n",
       "      <th>1986-03-18</th>\n",
       "      <td>0.000040</td>\n",
       "      <td>0.000032</td>\n",
       "      <td>0.000030</td>\n",
       "      <td>0.063588</td>\n",
       "    </tr>\n",
       "    <tr>\n",
       "      <th>1986-03-19</th>\n",
       "      <td>0.000033</td>\n",
       "      <td>0.000025</td>\n",
       "      <td>0.000025</td>\n",
       "      <td>0.044285</td>\n",
       "    </tr>\n",
       "  </tbody>\n",
       "</table>\n",
       "</div>"
      ],
      "text/plain": [
       "                Open      High       Low    Volume\n",
       "Date                                              \n",
       "1986-03-13  0.000000  0.000027  0.000000  1.000000\n",
       "1986-03-14  0.000025  0.000030  0.000025  0.297096\n",
       "1986-03-17  0.000035  0.000032  0.000036  0.127119\n",
       "1986-03-18  0.000040  0.000032  0.000030  0.063588\n",
       "1986-03-19  0.000033  0.000025  0.000025  0.044285"
      ]
     },
     "execution_count": 8,
     "metadata": {},
     "output_type": "execute_result"
    }
   ],
   "source": [
    "#Scaling the data using minmax scaler into [0,1] in order to make sure the model is not going to be sensitive about the data scale\n",
    "scaler = MinMaxScaler()\n",
    "transformed_data = scaler.fit_transform(df[columns])\n",
    "transformed_data= pd.DataFrame(columns=columns, data=transformed_data, index=df.index)\n",
    "transformed_data.head()"
   ]
  },
  {
   "cell_type": "code",
   "execution_count": 9,
   "id": "876e686a",
   "metadata": {},
   "outputs": [],
   "source": [
    "#Splitting to Training set and Test set \n",
    "timesplit= TimeSeriesSplit(n_splits=10) # defining 10-fold data splitting\n",
    "for train_index, test_index in timesplit.split(transformed_data):\n",
    "        X_train, X_test = transformed_data[:len(train_index)], transformed_data[len(train_index): (len(train_index)+len(test_index))]\n",
    "        y_train, y_test = target[:len(train_index)].values.ravel(), target[len(train_index): (len(train_index)+len(test_index))].values.ravel()\n",
    "\n",
    "#Process the data for LSTM (defining tensors as the input for the model)\n",
    "trX =np.array(X_train)\n",
    "tX =np.array(X_test)\n",
    "X_train = trX.reshape(X_train.shape[0], 1, X_train.shape[1])\n",
    "X_test = tX.reshape(X_test.shape[0], 1, X_test.shape[1])"
   ]
  },
  {
   "cell_type": "code",
   "execution_count": 10,
   "id": "ee2dae40",
   "metadata": {},
   "outputs": [
    {
     "name": "stdout",
     "output_type": "stream",
     "text": [
      "number of train samples:  8258\n",
      "number of test samples:  825\n"
     ]
    }
   ],
   "source": [
    "print(\"number of train samples: \",X_train.shape[0])\n",
    "print(\"number of test samples: \", X_test.shape[0])"
   ]
  },
  {
   "cell_type": "code",
   "execution_count": 11,
   "id": "06829373",
   "metadata": {},
   "outputs": [
    {
     "data": {
      "image/png": "[encoded data removed]",
      "text/plain": [
       "<IPython.core.display.Image object>"
      ]
     },
     "execution_count": 11,
     "metadata": {},
     "output_type": "execute_result"
    }
   ],
   "source": [
    "#Building the LSTM Model with the shapes provided in the previous cell, and rectified linear unit as activation function\n",
    "#32 neurons and 1 dense layer LSTM architecture\n",
    "lstm = Sequential()\n",
    "lstm.add(LSTM(32, input_shape=(1, trX.shape[1]), activation='relu', return_sequences=False))\n",
    "lstm.add(Dense(2))\n",
    "lstm.compile(loss='mean_squared_error', optimizer='adam')\n",
    "plot_model(lstm, show_shapes=True, show_layer_names=True) # plotting the model architecture"
   ]
  },
  {
   "cell_type": "code",
   "execution_count": 12,
   "id": "c209b2d2",
   "metadata": {},
   "outputs": [
    {
     "name": "stdout",
     "output_type": "stream",
     "text": [
      "Epoch 1/100\n",
      "517/517 [==============================] - 1s 1ms/step - loss: 463.9689\n",
      "Epoch 2/100\n",
      "517/517 [==============================] - 1s 1ms/step - loss: 262.0865\n",
      "Epoch 3/100\n",
      "517/517 [==============================] - 1s 1ms/step - loss: 240.5553\n",
      "Epoch 4/100\n",
      "517/517 [==============================] - 1s 1ms/step - loss: 226.4520\n",
      "Epoch 5/100\n",
      "517/517 [==============================] - 1s 1ms/step - loss: 201.0175\n",
      "Epoch 6/100\n",
      "517/517 [==============================] - 1s 1ms/step - loss: 167.2202\n",
      "Epoch 7/100\n",
      "517/517 [==============================] - 1s 1ms/step - loss: 128.7562\n",
      "Epoch 8/100\n",
      "517/517 [==============================] - 1s 1ms/step - loss: 91.4553\n",
      "Epoch 9/100\n",
      "517/517 [==============================] - 1s 1ms/step - loss: 59.8870\n",
      "Epoch 10/100\n",
      "517/517 [==============================] - 1s 1ms/step - loss: 36.3912\n",
      "Epoch 11/100\n",
      "517/517 [==============================] - 1s 1ms/step - loss: 21.1852\n",
      "Epoch 12/100\n",
      "517/517 [==============================] - 1s 1ms/step - loss: 12.8797\n",
      "Epoch 13/100\n",
      "517/517 [==============================] - 1s 1ms/step - loss: 9.0421\n",
      "Epoch 14/100\n",
      "517/517 [==============================] - 1s 1ms/step - loss: 7.4176\n",
      "Epoch 15/100\n",
      "517/517 [==============================] - 1s 1ms/step - loss: 6.6225\n",
      "Epoch 16/100\n",
      "517/517 [==============================] - 1s 1ms/step - loss: 6.0585\n",
      "Epoch 17/100\n",
      "517/517 [==============================] - 1s 1ms/step - loss: 5.5594\n",
      "Epoch 18/100\n",
      "517/517 [==============================] - 1s 1ms/step - loss: 5.1027\n",
      "Epoch 19/100\n",
      "517/517 [==============================] - 1s 1ms/step - loss: 4.6952\n",
      "Epoch 20/100\n",
      "517/517 [==============================] - 1s 1ms/step - loss: 4.3447\n",
      "Epoch 21/100\n",
      "517/517 [==============================] - 1s 1ms/step - loss: 4.0510\n",
      "Epoch 22/100\n",
      "517/517 [==============================] - 1s 1ms/step - loss: 3.8093\n",
      "Epoch 23/100\n",
      "517/517 [==============================] - 1s 1ms/step - loss: 3.6143\n",
      "Epoch 24/100\n",
      "517/517 [==============================] - 1s 1ms/step - loss: 3.4591\n",
      "Epoch 25/100\n",
      "517/517 [==============================] - 1s 1ms/step - loss: 3.3365\n",
      "Epoch 26/100\n",
      "517/517 [==============================] - 1s 1ms/step - loss: 3.2400\n",
      "Epoch 27/100\n",
      "517/517 [==============================] - 1s 1ms/step - loss: 3.1639\n",
      "Epoch 28/100\n",
      "517/517 [==============================] - 1s 1ms/step - loss: 3.1039\n",
      "Epoch 29/100\n",
      "517/517 [==============================] - 1s 1ms/step - loss: 3.0562\n",
      "Epoch 30/100\n",
      "517/517 [==============================] - 1s 1ms/step - loss: 3.0180\n",
      "Epoch 31/100\n",
      "517/517 [==============================] - 1s 1ms/step - loss: 2.9870\n",
      "Epoch 32/100\n",
      "517/517 [==============================] - 1s 1ms/step - loss: 2.9617\n",
      "Epoch 33/100\n",
      "517/517 [==============================] - 1s 1ms/step - loss: 2.9407\n",
      "Epoch 34/100\n",
      "517/517 [==============================] - 1s 1ms/step - loss: 2.9231\n",
      "Epoch 35/100\n",
      "517/517 [==============================] - 1s 1ms/step - loss: 2.9082\n",
      "Epoch 36/100\n",
      "517/517 [==============================] - 1s 1ms/step - loss: 2.8955\n",
      "Epoch 37/100\n",
      "517/517 [==============================] - 1s 1ms/step - loss: 2.8846\n",
      "Epoch 38/100\n",
      "517/517 [==============================] - 1s 1ms/step - loss: 2.8750\n",
      "Epoch 39/100\n",
      "517/517 [==============================] - 1s 1ms/step - loss: 2.8665\n",
      "Epoch 40/100\n",
      "517/517 [==============================] - 1s 1ms/step - loss: 2.8587\n",
      "Epoch 41/100\n",
      "517/517 [==============================] - 1s 1ms/step - loss: 2.8516\n",
      "Epoch 42/100\n",
      "517/517 [==============================] - 1s 1ms/step - loss: 2.8450\n",
      "Epoch 43/100\n",
      "517/517 [==============================] - 1s 1ms/step - loss: 2.8390\n",
      "Epoch 44/100\n",
      "517/517 [==============================] - 1s 1ms/step - loss: 2.8335\n",
      "Epoch 45/100\n",
      "517/517 [==============================] - 1s 1ms/step - loss: 2.8282\n",
      "Epoch 46/100\n",
      "517/517 [==============================] - 1s 1ms/step - loss: 2.8236\n",
      "Epoch 47/100\n",
      "517/517 [==============================] - 1s 1ms/step - loss: 2.8191\n",
      "Epoch 48/100\n",
      "517/517 [==============================] - 1s 1ms/step - loss: 2.8150\n",
      "Epoch 49/100\n",
      "517/517 [==============================] - 1s 1ms/step - loss: 2.8112\n",
      "Epoch 50/100\n",
      "517/517 [==============================] - 1s 1ms/step - loss: 2.8077\n",
      "Epoch 51/100\n",
      "517/517 [==============================] - 1s 1ms/step - loss: 2.8043\n",
      "Epoch 52/100\n",
      "517/517 [==============================] - 1s 1ms/step - loss: 2.8014\n",
      "Epoch 53/100\n",
      "517/517 [==============================] - 1s 1ms/step - loss: 2.7986\n",
      "Epoch 54/100\n",
      "517/517 [==============================] - 1s 1ms/step - loss: 2.7959\n",
      "Epoch 55/100\n",
      "517/517 [==============================] - 1s 1ms/step - loss: 2.7934\n",
      "Epoch 56/100\n",
      "517/517 [==============================] - 1s 1ms/step - loss: 2.7912\n",
      "Epoch 57/100\n",
      "517/517 [==============================] - 1s 1ms/step - loss: 2.7891\n",
      "Epoch 58/100\n",
      "517/517 [==============================] - 1s 1ms/step - loss: 2.7872\n",
      "Epoch 59/100\n",
      "517/517 [==============================] - 1s 1ms/step - loss: 2.7853\n",
      "Epoch 60/100\n",
      "517/517 [==============================] - 1s 1ms/step - loss: 2.7835\n",
      "Epoch 61/100\n",
      "517/517 [==============================] - 1s 1ms/step - loss: 2.7819\n",
      "Epoch 62/100\n",
      "517/517 [==============================] - 1s 1ms/step - loss: 2.7804\n",
      "Epoch 63/100\n",
      "517/517 [==============================] - 1s 1ms/step - loss: 2.7790\n",
      "Epoch 64/100\n",
      "517/517 [==============================] - 1s 1ms/step - loss: 2.7776\n",
      "Epoch 65/100\n",
      "517/517 [==============================] - 1s 1ms/step - loss: 2.7764\n",
      "Epoch 66/100\n",
      "517/517 [==============================] - 1s 1ms/step - loss: 2.7752\n",
      "Epoch 67/100\n",
      "517/517 [==============================] - 1s 1ms/step - loss: 2.7741\n",
      "Epoch 68/100\n",
      "517/517 [==============================] - 1s 1ms/step - loss: 2.7731\n",
      "Epoch 69/100\n",
      "517/517 [==============================] - 1s 1ms/step - loss: 2.7721\n",
      "Epoch 70/100\n",
      "517/517 [==============================] - 1s 1ms/step - loss: 2.7712\n",
      "Epoch 71/100\n",
      "517/517 [==============================] - 1s 1ms/step - loss: 2.7704\n",
      "Epoch 72/100\n",
      "517/517 [==============================] - 1s 1ms/step - loss: 2.7698\n",
      "Epoch 73/100\n",
      "517/517 [==============================] - 1s 1ms/step - loss: 2.7691\n",
      "Epoch 74/100\n",
      "517/517 [==============================] - 1s 1ms/step - loss: 2.7685\n",
      "Epoch 75/100\n",
      "517/517 [==============================] - 1s 1ms/step - loss: 2.7678\n",
      "Epoch 76/100\n",
      "517/517 [==============================] - 1s 1ms/step - loss: 2.7672\n",
      "Epoch 77/100\n",
      "517/517 [==============================] - 1s 1ms/step - loss: 2.7667\n",
      "Epoch 78/100\n",
      "517/517 [==============================] - 1s 1ms/step - loss: 2.7661\n",
      "Epoch 79/100\n",
      "517/517 [==============================] - 1s 1ms/step - loss: 2.7656\n",
      "Epoch 80/100\n",
      "517/517 [==============================] - 1s 1ms/step - loss: 2.7651\n",
      "Epoch 81/100\n",
      "517/517 [==============================] - 1s 1ms/step - loss: 2.7646\n",
      "Epoch 82/100\n",
      "517/517 [==============================] - 1s 1ms/step - loss: 2.7640\n",
      "Epoch 83/100\n",
      "517/517 [==============================] - 1s 1ms/step - loss: 2.7636\n",
      "Epoch 84/100\n",
      "517/517 [==============================] - 1s 1ms/step - loss: 2.7631\n",
      "Epoch 85/100\n",
      "517/517 [==============================] - 1s 1ms/step - loss: 2.7627\n",
      "Epoch 86/100\n",
      "517/517 [==============================] - 1s 1ms/step - loss: 2.7623\n",
      "Epoch 87/100\n",
      "517/517 [==============================] - 1s 1ms/step - loss: 2.7619\n",
      "Epoch 88/100\n",
      "517/517 [==============================] - 1s 1ms/step - loss: 2.7615\n",
      "Epoch 89/100\n",
      "517/517 [==============================] - 1s 1ms/step - loss: 2.7612\n",
      "Epoch 90/100\n",
      "517/517 [==============================] - 1s 1ms/step - loss: 2.7610\n",
      "Epoch 91/100\n",
      "517/517 [==============================] - 1s 1ms/step - loss: 2.7608\n",
      "Epoch 92/100\n",
      "517/517 [==============================] - 1s 1ms/step - loss: 2.7606\n",
      "Epoch 93/100\n",
      "517/517 [==============================] - 1s 1ms/step - loss: 2.7604\n",
      "Epoch 94/100\n",
      "517/517 [==============================] - 1s 1ms/step - loss: 2.7603\n",
      "Epoch 95/100\n",
      "517/517 [==============================] - 1s 1ms/step - loss: 2.7601\n",
      "Epoch 96/100\n",
      "517/517 [==============================] - 1s 1ms/step - loss: 2.7601\n",
      "Epoch 97/100\n",
      "517/517 [==============================] - 1s 1ms/step - loss: 2.7600\n",
      "Epoch 98/100\n",
      "517/517 [==============================] - 1s 1ms/step - loss: 2.7600\n",
      "Epoch 99/100\n"
     ]
    },
    {
     "name": "stdout",
     "output_type": "stream",
     "text": [
      "517/517 [==============================] - 1s 1ms/step - loss: 2.7600\n",
      "Epoch 100/100\n",
      "517/517 [==============================] - 1s 1ms/step - loss: 2.7601\n"
     ]
    }
   ],
   "source": [
    "lstm_m=lstm.fit(X_train, y_train, epochs=100, batch_size=16, verbose=1, shuffle=False)"
   ]
  },
  {
   "cell_type": "code",
   "execution_count": 13,
   "id": "d71f64a3",
   "metadata": {},
   "outputs": [],
   "source": [
    "#Prediction of LSTM on the test data\n",
    "y_pred= lstm.predict(X_test)"
   ]
  },
  {
   "cell_type": "code",
   "execution_count": 14,
   "id": "dfb30c63",
   "metadata": {},
   "outputs": [
    {
     "name": "stdout",
     "output_type": "stream",
     "text": [
      "R-squared score:  0.7906880235105175\n",
      "Root Mean Squared Error:  31.822917790926862\n",
      "Mean Absolute Error: 25.404183409679227\n"
     ]
    }
   ],
   "source": [
    "#r-squared of the model\n",
    "print(\"R-squared score: \", r2_score(y_test, y_pred[:,0]))\n",
    "\n",
    "#rmse of the model\n",
    "print(\"Root Mean Squared Error: \",  mean_squared_error(y_test, y_pred[:,0], squared=False))\n",
    "\n",
    "#MAE of the model\n",
    "print(\"Mean Absolute Error:\", sum((y_test - y_pred[:,0]))/len(y_test))"
   ]
  },
  {
   "cell_type": "code",
   "execution_count": 15,
   "id": "2a7fe9c3",
   "metadata": {},
   "outputs": [
    {
     "data": {
      "image/png": "[encoded data removed]",
      "text/plain": [
       "<Figure size 432x288 with 1 Axes>"
      ]
     },
     "metadata": {
      "needs_background": "light"
     },
     "output_type": "display_data"
    }
   ],
   "source": [
    "#Predicted vs True Adj Close Value – LSTM\n",
    "plt.plot(y_test, label='True Value')\n",
    "plt.plot(y_pred[:,0], label='Predicted Value')\n",
    "plt.title('LSTM Prediction')\n",
    "plt.xlabel('Time Scale')\n",
    "plt.ylabel('Scaled Price')\n",
    "plt.legend()\n",
    "plt.show()"
   ]
  },
  {
   "cell_type": "markdown",
   "id": "a7f0274b",
   "metadata": {},
   "source": [
    "We can try extreme gradient boost model to see how it works for this dataset"
   ]
  },
  {
   "cell_type": "code",
   "execution_count": 16,
   "id": "0b6f3ac3",
   "metadata": {},
   "outputs": [],
   "source": [
    "XGB_model = XGBRegressor(n_estimators=1000)\n",
    "XGB_model.fit(X_train[:,0], y_train)\n",
    "y_pred_XGB = XGB_model.predict(X_test[:,0])"
   ]
  },
  {
   "cell_type": "code",
   "execution_count": 17,
   "id": "53451081",
   "metadata": {},
   "outputs": [
    {
     "data": {
      "image/png": "[encoded data removed]",
      "text/plain": [
       "<Figure size 432x288 with 1 Axes>"
      ]
     },
     "metadata": {
      "needs_background": "light"
     },
     "output_type": "display_data"
    }
   ],
   "source": [
    "#Predicted vs True Adj Close Value – XGBoost\n",
    "plt.plot(y_test, label='True Value')\n",
    "plt.plot(y_pred_XGB, label='Predicted Value')\n",
    "plt.title('XGBoost')\n",
    "plt.xlabel('Time Scale')\n",
    "plt.ylabel('Scaled Price')\n",
    "plt.legend()\n",
    "plt.show()"
   ]
  },
  {
   "cell_type": "markdown",
   "id": "88491930",
   "metadata": {},
   "source": [
    "We can see that extreme gradient boost method is learning the trend of stock price very well at first, but after that it loses its exploration and low variance of the output for this problem is obvious through the plot."
   ]
  },
  {
   "cell_type": "markdown",
   "id": "042f5056",
   "metadata": {},
   "source": [
    "LSTM works well in the case of this pattern recognition because its architecture to have memory and can use the output from the previous timestep as the input for the current timestep."
   ]
  },
  {
   "cell_type": "code",
   "execution_count": null,
   "id": "a518f8c0",
   "metadata": {},
   "outputs": [],
   "source": []
  }
 ],
 "metadata": {
  "kernelspec": {
   "display_name": "Python 3 (ipykernel)",
   "language": "python",
   "name": "python3"
  },
  "language_info": {
   "codemirror_mode": {
    "name": "ipython",
    "version": 3
   },
   "file_extension": ".py",
   "mimetype": "text/x-python",
   "name": "python",
   "nbconvert_exporter": "python",
   "pygments_lexer": "ipython3",
   "version": "3.8.8"
  }
 },
 "nbformat": 4,
 "nbformat_minor": 5
}
